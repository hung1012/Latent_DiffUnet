{
 "cells": [
  {
   "cell_type": "code",
   "execution_count": 1,
   "metadata": {},
   "outputs": [
    {
     "name": "stdout",
     "output_type": "stream",
     "text": [
      "/home/admin_mcn/hungvq\n"
     ]
    }
   ],
   "source": [
    "%cd /home/admin_mcn/hungvq"
   ]
  },
  {
   "cell_type": "code",
   "execution_count": 2,
   "metadata": {},
   "outputs": [],
   "source": [
    "from stable_diffusion.ldm.util import instantiate_from_config\n",
    "from omegaconf import OmegaConf\n",
    "import os\n",
    "import torch\n",
    "import numpy as np\n",
    "from PIL import Image\n",
    "from torchvision.transforms import Compose, ToTensor, Resize, ToPILImage\n",
    "from torchvision.transforms.functional import to_pil_image"
   ]
  },
  {
   "cell_type": "code",
   "execution_count": 4,
   "metadata": {},
   "outputs": [
    {
     "name": "stdout",
     "output_type": "stream",
     "text": [
      "/home/admin_mcn/hungvq/stable_diffusion\n"
     ]
    }
   ],
   "source": [
    "%cd /home/admin_mcn/hungvq/stable_diffusion"
   ]
  },
  {
   "cell_type": "code",
   "execution_count": 5,
   "metadata": {},
   "outputs": [],
   "source": [
    "config_path = '/home/admin_mcn/hungvq/stable_diffusion/logs/2023-06-07T11-32-09_seg_diff_autoencoder/configs/2023-06-07T11-32-09-project.yaml'\n",
    "ckpt_path = '/home/admin_mcn/hungvq/stable_diffusion/logs/2023-06-07T11-32-09_seg_diff_autoencoder/checkpoints/last.ckpt'"
   ]
  },
  {
   "cell_type": "code",
   "execution_count": 6,
   "metadata": {},
   "outputs": [
    {
     "name": "stdout",
     "output_type": "stream",
     "text": [
      "making attention of type 'vanilla' with 256 in_channels\n",
      "Working with z of shape (1, 32, 12, 12) = 4608 dimensions.\n",
      "making attention of type 'vanilla' with 256 in_channels\n",
      "loaded pretrained LPIPS loss from taming/modules/autoencoder/lpips/vgg.pth\n"
     ]
    }
   ],
   "source": [
    "config = OmegaConf.load(config_path)\n",
    "model = instantiate_from_config(config.model)"
   ]
  },
  {
   "cell_type": "code",
   "execution_count": 7,
   "metadata": {},
   "outputs": [
    {
     "data": {
      "text/plain": [
       "<All keys matched successfully>"
      ]
     },
     "execution_count": 7,
     "metadata": {},
     "output_type": "execute_result"
    }
   ],
   "source": [
    "ckpt = torch.load(ckpt_path, map_location='cpu')\n",
    "model.load_state_dict(ckpt['state_dict'])"
   ]
  },
  {
   "cell_type": "code",
   "execution_count": 8,
   "metadata": {},
   "outputs": [],
   "source": [
    "MASK_DIR = '/home/admin_mcn/thaotlp/data/ISIC/mask'\n",
    "LATENT_GT_DIR = '/home/admin_mcn/hungvq/data/latent_gt'"
   ]
  },
  {
   "cell_type": "code",
   "execution_count": 10,
   "metadata": {},
   "outputs": [],
   "source": [
    "for filepath in os.listdir(MASK_DIR):\n",
    "    fileidx = filepath.split(\".\")[0]\n",
    "    trans = Compose([ToTensor(), Resize((384,384))])\n",
    "    mask = Image.open(os.path.join(MASK_DIR, filepath)).convert(mode='L')\n",
    "\n",
    "    latent_z = model.encode(trans(mask).unsqueeze(0)).sample()\n",
    "\n",
    "    latent_gt = latent_z.detach().cpu().numpy()\n",
    "\n",
    "    np.save(os.path.join(LATENT_GT_DIR, fileidx + '.npy'), latent_gt)\n",
    "\n",
    "    "
   ]
  },
  {
   "cell_type": "code",
   "execution_count": 14,
   "metadata": {},
   "outputs": [
    {
     "data": {
      "text/plain": [
       "torch.Size([1, 32, 12, 12])"
      ]
     },
     "execution_count": 14,
     "metadata": {},
     "output_type": "execute_result"
    }
   ],
   "source": [
    "latent_z.shape"
   ]
  },
  {
   "cell_type": "code",
   "execution_count": null,
   "metadata": {},
   "outputs": [],
   "source": [
    "latent_output = torch.Tensor(np.load('/home/admin_mcn/thaotlp/data/ISIC/latent_output/ISIC_0010264.npy'))\n",
    "output = model.decode(latent_output)\n",
    "to_pil_image(torch.clamp(output[0].squeeze(0),min=0,max=1), mode='RGB').convert('L')"
   ]
  },
  {
   "cell_type": "code",
   "execution_count": null,
   "metadata": {},
   "outputs": [],
   "source": [
    "latent_output = torch.Tensor(np.load('/home/admin_mcn/thaotlp/data/ISIC/latent_output/ISIC_0000002.npy'))\n",
    "output = model.decode(latent_output)\n",
    "to_pil_image(torch.clamp(output[0].squeeze(0),min=0,max=1), mode='RGB').convert('L')"
   ]
  },
  {
   "cell_type": "code",
   "execution_count": null,
   "metadata": {},
   "outputs": [],
   "source": [
    "latent_gt = torch.Tensor(np.load('/home/admin_mcn/hungvq/data/latent_gt/ISIC_0000002.npy'))\n",
    "gt = model.decode(latent_gt)\n",
    "to_pil_image(torch.clamp(gt[0].squeeze(0),min=0,max=1), mode='L')"
   ]
  }
 ],
 "metadata": {
  "kernelspec": {
   "display_name": "trinhminh",
   "language": "python",
   "name": "python3"
  },
  "language_info": {
   "codemirror_mode": {
    "name": "ipython",
    "version": 3
   },
   "file_extension": ".py",
   "mimetype": "text/x-python",
   "name": "python",
   "nbconvert_exporter": "python",
   "pygments_lexer": "ipython3",
   "version": "3.9.12"
  },
  "orig_nbformat": 4
 },
 "nbformat": 4,
 "nbformat_minor": 2
}
